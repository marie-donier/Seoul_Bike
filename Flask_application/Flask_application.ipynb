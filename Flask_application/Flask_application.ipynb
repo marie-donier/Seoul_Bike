{
  "nbformat": 4,
  "nbformat_minor": 0,
  "metadata": {
    "colab": {
      "name": "Flask application.ipynb",
      "provenance": []
    },
    "kernelspec": {
      "name": "python3",
      "display_name": "Python 3"
    },
    "language_info": {
      "name": "python"
    }
  },
  "cells": [
    {
      "cell_type": "code",
      "source": [
        "!pip install flask-ngrok\n",
        "!pip install pyngrok==4.1.1"
      ],
      "metadata": {
        "id": "MT7XDppsUbdx",
        "colab": {
          "base_uri": "https://localhost:8080/"
        },
        "outputId": "ed223b19-ae4e-4283-8289-1003b010e25d"
      },
      "execution_count": 1,
      "outputs": [
        {
          "output_type": "stream",
          "name": "stdout",
          "text": [
            "Collecting flask-ngrok\n",
            "  Downloading flask_ngrok-0.0.25-py3-none-any.whl (3.1 kB)\n",
            "Requirement already satisfied: requests in /usr/local/lib/python3.7/dist-packages (from flask-ngrok) (2.23.0)\n",
            "Requirement already satisfied: Flask>=0.8 in /usr/local/lib/python3.7/dist-packages (from flask-ngrok) (1.1.4)\n",
            "Requirement already satisfied: itsdangerous<2.0,>=0.24 in /usr/local/lib/python3.7/dist-packages (from Flask>=0.8->flask-ngrok) (1.1.0)\n",
            "Requirement already satisfied: click<8.0,>=5.1 in /usr/local/lib/python3.7/dist-packages (from Flask>=0.8->flask-ngrok) (7.1.2)\n",
            "Requirement already satisfied: Jinja2<3.0,>=2.10.1 in /usr/local/lib/python3.7/dist-packages (from Flask>=0.8->flask-ngrok) (2.11.3)\n",
            "Requirement already satisfied: Werkzeug<2.0,>=0.15 in /usr/local/lib/python3.7/dist-packages (from Flask>=0.8->flask-ngrok) (1.0.1)\n",
            "Requirement already satisfied: MarkupSafe>=0.23 in /usr/local/lib/python3.7/dist-packages (from Jinja2<3.0,>=2.10.1->Flask>=0.8->flask-ngrok) (2.0.1)\n",
            "Requirement already satisfied: certifi>=2017.4.17 in /usr/local/lib/python3.7/dist-packages (from requests->flask-ngrok) (2021.10.8)\n",
            "Requirement already satisfied: idna<3,>=2.5 in /usr/local/lib/python3.7/dist-packages (from requests->flask-ngrok) (2.10)\n",
            "Requirement already satisfied: chardet<4,>=3.0.2 in /usr/local/lib/python3.7/dist-packages (from requests->flask-ngrok) (3.0.4)\n",
            "Requirement already satisfied: urllib3!=1.25.0,!=1.25.1,<1.26,>=1.21.1 in /usr/local/lib/python3.7/dist-packages (from requests->flask-ngrok) (1.24.3)\n",
            "Installing collected packages: flask-ngrok\n",
            "Successfully installed flask-ngrok-0.0.25\n",
            "Collecting pyngrok==4.1.1\n",
            "  Downloading pyngrok-4.1.1.tar.gz (18 kB)\n",
            "Requirement already satisfied: future in /usr/local/lib/python3.7/dist-packages (from pyngrok==4.1.1) (0.16.0)\n",
            "Requirement already satisfied: PyYAML in /usr/local/lib/python3.7/dist-packages (from pyngrok==4.1.1) (3.13)\n",
            "Building wheels for collected packages: pyngrok\n",
            "  Building wheel for pyngrok (setup.py) ... \u001b[?25l\u001b[?25hdone\n",
            "  Created wheel for pyngrok: filename=pyngrok-4.1.1-py3-none-any.whl size=15984 sha256=dbb575e91181e7d76db7fc0ae6cb8280d0e09e556ea147645afed7f8ed917e85\n",
            "  Stored in directory: /root/.cache/pip/wheels/b1/d9/12/045a042fee3127dc40ba6f5df2798aa2df38c414bf533ca765\n",
            "Successfully built pyngrok\n",
            "Installing collected packages: pyngrok\n",
            "Successfully installed pyngrok-4.1.1\n"
          ]
        }
      ]
    },
    {
      "cell_type": "code",
      "source": [
        "!ngrok authtoken 231aDBrawch35gOZZoCIMc5Z8Lb_5nmGDpG4oTEUY1ich83VN"
      ],
      "metadata": {
        "colab": {
          "base_uri": "https://localhost:8080/"
        },
        "id": "aDkMvEB2f8Cx",
        "outputId": "c3e701fb-269c-477d-ce4d-2f184b93ef8a"
      },
      "execution_count": 2,
      "outputs": [
        {
          "output_type": "stream",
          "name": "stdout",
          "text": [
            "Authtoken saved to configuration file: /root/.ngrok2/ngrok.yml\n"
          ]
        }
      ]
    },
    {
      "cell_type": "code",
      "source": [
        "import pickle\n",
        "from os import name\n",
        "from flask_ngrok import run_with_ngrok\n",
        "from flask import Flask, request, render_template, redirect, url_for\n",
        "import datetime\n",
        "from datetime import datetime\n",
        "import pandas as pd\n",
        "import numpy as np\n",
        "from sklearn.preprocessing import StandardScaler"
      ],
      "metadata": {
        "id": "tUGSgI9MWqN4"
      },
      "execution_count": 6,
      "outputs": []
    },
    {
      "cell_type": "markdown",
      "source": [
        "###Conversion of information received as input to a dataframe\n",
        "\n"
      ],
      "metadata": {
        "id": "UzpqFlC9pRYP"
      }
    },
    {
      "cell_type": "code",
      "source": [
        "import datetime\n",
        "from datetime import datetime\n",
        "def Create_dataframe_for_prediction(data):\n",
        "  \n",
        "  # Date\n",
        "  y = data[0][0:4]\n",
        "  m = data[0][5:7]\n",
        "  d = data[0][8:10]\n",
        "  Date = d+'/'+m+'/'+y\n",
        "  Date\n",
        "\n",
        "  date = datetime.strptime(Date, \"%d/%m/%Y\")\n",
        "  date\n",
        "\n",
        "  data[0]=date\n",
        "\n",
        "  # Hour\n",
        "  if (int(data[1][0])==0): \n",
        "    data[1] = int(data[1][1]) \n",
        "  else:\n",
        "    data[1] = int(data[1][0] + data[1][1])\n",
        "  hour = data[1]\n",
        "\n",
        "  holiday = 1 if data[2]==\"yes\" else 0\n",
        "\n",
        "  functioning_day = 1 if data[3]==\"yes\" else 0\n",
        "\n",
        "  temperature = float(data[4])\n",
        "\n",
        "  humidity = int(data[5])\n",
        "\n",
        "  windspeed = float(data[6])\n",
        "\n",
        "  visibility = int(data[7])\n",
        "\n",
        "  dew_point_temperature = float(data[8])\n",
        "\n",
        "  solar_radiation = float(data[9])\n",
        "\n",
        "  rainfall = float(data[10])\n",
        "\n",
        "  snowfall = float(data[11])\n",
        "\n",
        "  number_month = date.month\n",
        "\n",
        "\n",
        "  # To determine the season\n",
        "  season=''\n",
        "  # We get the current day of the year\n",
        "  day_of_the_year = date.timetuple().tm_yday\n",
        "\n",
        "  spring = range(80, 172)\n",
        "  summer = range(172, 264)\n",
        "  autumn = range(264, 355)\n",
        "  # winter = everything else\n",
        "\n",
        "  if day_of_the_year in spring:\n",
        "    season = 'Spring'\n",
        "  elif day_of_the_year in summer:\n",
        "    season = 'Summer'\n",
        "  elif day_of_the_year in autumn:\n",
        "    season = 'Autumn'\n",
        "  else:\n",
        "    season = 'Winter'\n",
        "\n",
        "  season_winter = 1 if season==\"Winter\" else 0\n",
        "  season_spring = 1 if season==\"Spring\" else 0\n",
        "  season_summer = 1 if season==\"Summer\" else 0\n",
        "  season_autumn = 1 if season==\"Autumn\" else 0\n",
        "\n",
        "\n",
        "  # Part of the day : Morning, Afternoon, Evening, Night\n",
        "  Part_of_the_day = part_of_the_day(int(hour))\n",
        "\n",
        "  part_of_the_day_morning = 1 if Part_of_the_day==\"Morning\" else 0\n",
        "  part_of_the_day_afternoon = 1 if Part_of_the_day==\"Afternoon\" else 0\n",
        "  part_of_the_day_evening = 1 if Part_of_the_day==\"Evening\" else 0\n",
        "  part_of_the_day_night = 1 if Part_of_the_day==\"Night\" else 0\n",
        "\n",
        "\n",
        "  # Week-end day or not\n",
        "  w_d = date.weekday()\n",
        "  day=\"\"\n",
        "  if(w_d==0):\n",
        "    day=\"Monday\"\n",
        "  elif(w_d==1):\n",
        "    day=\"Tuesday\"\n",
        "  elif(w_d==2):\n",
        "    day=\"Wednesday\"\n",
        "  elif(w_d==3):\n",
        "    day=\"Thursday\"\n",
        "  elif(w_d==4):\n",
        "    day=\"Friday\"\n",
        "  elif(w_d==5):\n",
        "    day=\"Saturday\"\n",
        "  elif(w_d==6):\n",
        "    day=\"Sunday\"\n",
        "\n",
        "  week_end_day_yes = 1 if (day==\"Saturday\" or day==\"Sunday\") else 0\n",
        "  week_end_day_no = 0 if (day==\"Saturday\" or day==\"Sunday\") else 1\n",
        "\n",
        "  day_week_monday = 1 if day==\"Monday\" else 0\n",
        "  day_week_tuesday = 1 if day==\"Tuesday\" else 0\n",
        "  day_week_wednesday = 1 if day==\"Wednesday\" else 0\n",
        "  day_week_thursday = 1 if day==\"Thursday\" else 0\n",
        "  day_week_friday = 1 if day==\"Friday\" else 0\n",
        "  day_week_saturday = 1 if day==\"Saturday\" else 0\n",
        "  day_week_sunday = 1 if day==\"Sunday\" else 0\n",
        "\n",
        " \n",
        "  \n",
        "  columns = [date, hour, temperature, humidity, windspeed, visibility, dew_point_temperature, solar_radiation, rainfall, snowfall, holiday, functioning_day, \n",
        "             number_month, season_autumn, season_spring, season_summer, season_winter, day_week_friday, day_week_monday, day_week_saturday, day_week_sunday, \n",
        "             day_week_thursday, day_week_tuesday, day_week_wednesday, part_of_the_day_afternoon, part_of_the_day_evening, part_of_the_day_morning, part_of_the_day_night, \n",
        "             week_end_day_no, week_end_day_yes]\n",
        "  \n",
        "  column_names = [\"Date\", \"Hour\", \"Temp\", \"Hum\", \"Wind\", \"Vis\", \"Dew\", \"Solar\", \"Rain\", \"Snow\", \"Holiday\", \"FDay\", \n",
        "                  \"Number_month\", \"Seasons_Autumn\", \"Seasons_Spring\", \"Seasons_Summer\", \"Seasons_Winter\", \"Day_week_Friday\", \"Day_week_Monday\", \"Day_week_Saturday\", \"Day_week_Sunday\", \n",
        "                  \"Day_week_Thursday\", \"Day_week_Tuesday\", \"Day_week_Wednesday\", \"Part_of_the_day_Afternoon\", \"Part_of_the_day_Evening\", \"Part_of_the_day_Morning\", \"Part_of_the_day_Night\", \n",
        "                  \"Week_end_day_no\", \"Week_end_day_yes\"]\n",
        "\n",
        "  df_prediction = pd.DataFrame([columns], columns=column_names)\n",
        "  df_prediction['Date'] = pd.to_numeric(pd.to_datetime(df_prediction['Date']))\n",
        "\n",
        "  df_complete = pd.concat([df_bike2, df_prediction], ignore_index = True)\n",
        "\n",
        "  df_complete.drop([\"Bike_Count\"], axis = 1, inplace = True)\n",
        "\n",
        "\n",
        "  X = df_complete\n",
        "  scaler = StandardScaler()\n",
        "  scaler.fit(X)\n",
        "  X_scaled = scaler.transform(X)\n",
        "\n",
        "  df_pred = np.array(list(X_scaled[8760]), ndmin=2)\n",
        "\n",
        "  return df_pred\n"
      ],
      "metadata": {
        "id": "xh2QMpiZ5AVv"
      },
      "execution_count": 7,
      "outputs": []
    },
    {
      "cell_type": "markdown",
      "source": [
        "####App"
      ],
      "metadata": {
        "id": "QMTrPDKHTU_A"
      }
    },
    {
      "cell_type": "code",
      "source": [
        "app = Flask(__name__, template_folder='/content', static_folder='/content/static')\n",
        "\n",
        "run_with_ngrok(app)\n",
        "\n",
        "model_grad_boosting_reg = pickle.load(open('/content/model_grad_boosting_reg.pkl', 'rb'))\n",
        "df_bike2 = pickle.load(open('/content/df_bike2.pkl', 'rb'))\n",
        "\n",
        "def part_of_the_day(hour):\n",
        "    if(hour < 6):\n",
        "        return \"Night\"\n",
        "    elif (hour < 12):\n",
        "        return \"Morning\"\n",
        "    elif (hour < 18):\n",
        "        return \"Afternoon\"\n",
        "    else :\n",
        "          return \"Evening\"\n",
        "\n",
        "@app.route('/')\n",
        "def home():\n",
        "    return render_template(\"index_accueil.html\")\n",
        "\n",
        "@app.route('/get_prediction', methods=['POST'])\n",
        "def get_prediction():    \n",
        "\n",
        "    input = [x for x in request.form.values()]\n",
        "    input.append(\"\")\n",
        "\n",
        "    df_prediction = Create_dataframe_for_prediction(input)\n",
        "\n",
        "    prediction = model_grad_boosting_reg.predict(df_prediction)\n",
        "\n",
        "    return render_template(\"index_accueil.html\", output='Predicted Bike Count : {}'.format(prediction))\n",
        "\n",
        "app.run()\n",
        "\n",
        "if __name__ == \"__main__\":\n",
        "    app.run()\n"
      ],
      "metadata": {
        "colab": {
          "base_uri": "https://localhost:8080/"
        },
        "id": "-3pnfYa0d6yJ",
        "outputId": "8dd9bd39-07ec-4136-ca30-f79cb8e3f095"
      },
      "execution_count": 9,
      "outputs": [
        {
          "output_type": "stream",
          "name": "stdout",
          "text": [
            " * Serving Flask app \"__main__\" (lazy loading)\n",
            " * Environment: production\n",
            "\u001b[31m   WARNING: This is a development server. Do not use it in a production deployment.\u001b[0m\n",
            "\u001b[2m   Use a production WSGI server instead.\u001b[0m\n",
            " * Debug mode: off\n"
          ]
        },
        {
          "output_type": "stream",
          "name": "stderr",
          "text": [
            " * Running on http://127.0.0.1:5000/ (Press CTRL+C to quit)\n"
          ]
        },
        {
          "output_type": "stream",
          "name": "stdout",
          "text": [
            " * Running on http://fafe-35-186-189-191.ngrok.io\n",
            " * Traffic stats available on http://127.0.0.1:4040\n"
          ]
        },
        {
          "output_type": "stream",
          "name": "stderr",
          "text": [
            "127.0.0.1 - - [02/Jan/2022 11:30:50] \"\u001b[37mGET / HTTP/1.1\u001b[0m\" 200 -\n",
            "127.0.0.1 - - [02/Jan/2022 11:30:50] \"\u001b[37mGET /static/css/style.css HTTP/1.1\u001b[0m\" 200 -\n",
            "127.0.0.1 - - [02/Jan/2022 11:30:50] \"\u001b[37mGET /static/bike.jpg HTTP/1.1\u001b[0m\" 200 -\n",
            "127.0.0.1 - - [02/Jan/2022 11:30:51] \"\u001b[33mGET /favicon.ico HTTP/1.1\u001b[0m\" 404 -\n"
          ]
        },
        {
          "output_type": "stream",
          "name": "stdout",
          "text": [
            " * Serving Flask app \"__main__\" (lazy loading)\n",
            " * Environment: production\n",
            "\u001b[31m   WARNING: This is a development server. Do not use it in a production deployment.\u001b[0m\n",
            "\u001b[2m   Use a production WSGI server instead.\u001b[0m\n",
            " * Debug mode: off\n"
          ]
        },
        {
          "output_type": "stream",
          "name": "stderr",
          "text": [
            " * Running on http://127.0.0.1:5000/ (Press CTRL+C to quit)\n"
          ]
        }
      ]
    }
  ]
}